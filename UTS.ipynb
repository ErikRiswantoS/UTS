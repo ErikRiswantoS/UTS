{
 "cells": [
  {
   "cell_type": "markdown",
   "id": "73306015",
   "metadata": {},
   "source": [
    "<h1>1</h1>\n",
    "<p>Jawaban : B</p>"
   ]
  },
  {
   "cell_type": "markdown",
   "id": "14a930c1",
   "metadata": {},
   "source": [
    "<h1>2</h1>\n",
    "<p>Jawaban : A</p>"
   ]
  },
  {
   "cell_type": "markdown",
   "id": "9c930b12",
   "metadata": {},
   "source": [
    "<h1>3</h1>\n",
    "<p>Jawaban : D</p>"
   ]
  },
  {
   "cell_type": "markdown",
   "id": "57ecf67f",
   "metadata": {},
   "source": [
    "<h1>4</h1>\n",
    "<p>Jawaban : D</p>"
   ]
  },
  {
   "cell_type": "markdown",
   "id": "7cf741be",
   "metadata": {},
   "source": [
    "<h1>5</h1>\n",
    "<p>Jawaban : A</p>"
   ]
  },
  {
   "cell_type": "markdown",
   "id": "022d46fb",
   "metadata": {},
   "source": [
    "<h1>6</h1>\n",
    "<p>Jawaban : D</p>"
   ]
  },
  {
   "cell_type": "markdown",
   "id": "c9eef54f",
   "metadata": {},
   "source": [
    "<h1>7</h1>\n",
    "<p>Jawaban : E</p>"
   ]
  },
  {
   "cell_type": "markdown",
   "id": "569c348c",
   "metadata": {},
   "source": [
    "<h1>8</h1>\n",
    "<p>Jawaban : A</p>"
   ]
  },
  {
   "cell_type": "markdown",
   "id": "9eab479b",
   "metadata": {},
   "source": [
    "<h1>9</h1>\n",
    "<p>Jawaban : B</p>"
   ]
  },
  {
   "cell_type": "markdown",
   "id": "3ea3d300",
   "metadata": {},
   "source": [
    "<h1>10</h1>\n",
    "<p>Jawaban : A</p>"
   ]
  },
  {
   "cell_type": "markdown",
   "id": "481497ab",
   "metadata": {},
   "source": [
    "<h1>11</h1>\n",
    "<p>Jawaban : C</p>"
   ]
  },
  {
   "cell_type": "markdown",
   "id": "c690a3fc",
   "metadata": {},
   "source": [
    "<h1>12</h1>\n",
    "<p>Jawaban : A</p>"
   ]
  },
  {
   "cell_type": "markdown",
   "id": "d02f8d87",
   "metadata": {},
   "source": [
    "<h1>13</h1>\n",
    "<p>Jawaban : A</p>"
   ]
  },
  {
   "cell_type": "markdown",
   "id": "c6e47766",
   "metadata": {},
   "source": [
    "<h1>14</h1>\n",
    "<p>Jawaban : A</p>"
   ]
  },
  {
   "cell_type": "markdown",
   "id": "a6845da0",
   "metadata": {},
   "source": [
    "<h1>15</h1>\n",
    "<p>Jawaban : A</p>"
   ]
  },
  {
   "cell_type": "markdown",
   "id": "11b9e7a0",
   "metadata": {},
   "source": [
    "<h1>16</h1>\n",
    "<p>Jawaban : B</p>"
   ]
  },
  {
   "cell_type": "markdown",
   "id": "ed1469c3",
   "metadata": {},
   "source": [
    "<h1>17</h1>\n",
    "<p>Jawaban : E</p>"
   ]
  },
  {
   "cell_type": "markdown",
   "id": "bc430b5d",
   "metadata": {},
   "source": [
    "<h1>18</h1>\n",
    "<p>Jawaban : A</p>"
   ]
  },
  {
   "cell_type": "markdown",
   "id": "d43d856b",
   "metadata": {},
   "source": [
    "<h1>19</h1>\n",
    "<p>Jawaban : D</p>"
   ]
  },
  {
   "cell_type": "markdown",
   "id": "9dd0547f",
   "metadata": {},
   "source": [
    "<h1>20</h1>\n",
    "<p>Jawaban : E</p>"
   ]
  },
  {
   "cell_type": "code",
   "execution_count": null,
   "id": "83038189",
   "metadata": {},
   "outputs": [],
   "source": [
    "email = input(\"masukan email anda: \")\n",
    "x = email.find (\"@\")\n",
    "y = email.find (\".\")\n",
    "print (x)\n",
    "print (y)\n",
    "print (x < y)\n"
   ]
  },
  {
   "cell_type": "code",
   "execution_count": 5,
   "id": "e98b83a2",
   "metadata": {},
   "outputs": [
    {
     "name": "stdout",
     "output_type": "stream",
     "text": [
      "Isi kalimat andasukabumi kota\n",
      "0\n",
      "1\n",
      "2\n",
      "3\n",
      "4\n",
      "5\n",
      "6\n",
      "7\n",
      "8\n",
      "9\n",
      "10\n",
      "11\n",
      "12\n"
     ]
    }
   ],
   "source": [
    "kalimat = input(\"Isi kalimat anda \")\n",
    "for i in range (len(kalimat)):\n",
    "    print(i)"
   ]
  },
  {
   "cell_type": "code",
   "execution_count": 16,
   "id": "d0755dbd",
   "metadata": {},
   "outputs": [
    {
     "name": "stdout",
     "output_type": "stream",
     "text": [
      "Isi kalimat anda aku suka kamu\n",
      "4ku 5uk4 k4mu\n"
     ]
    }
   ],
   "source": [
    "kalimat = input(\"Isi kalimat anda \")\n",
    "sandi = \"\"\n",
    "for i in range (len(kalimat)):\n",
    "    if kalimat [i] == \"a\" or kalimat[i] == \"A\":\n",
    "        sandi = sandi + \"4\"\n",
    "    elif kalimat[i] == \"e\" or kalimat[i] == \"E\":\n",
    "        sandi = sandi + \"3\"\n",
    "    elif kalimat[i] == \"l\" or kalimat[i] == \"L\":\n",
    "        sandi = sandi + \"7\"\n",
    "    elif kalimat[i] == \"s\" or kalimat[i] == \"S\":\n",
    "        sandi = sandi + \"5\"\n",
    "    else :\n",
    "        sandi = sandi + kalimat[i]\n",
    "print(sandi)"
   ]
  },
  {
   "cell_type": "code",
   "execution_count": null,
   "id": "0b25d304",
   "metadata": {},
   "outputs": [],
   "source": []
  }
 ],
 "metadata": {
  "kernelspec": {
   "display_name": "Python 3 (ipykernel)",
   "language": "python",
   "name": "python3"
  },
  "language_info": {
   "codemirror_mode": {
    "name": "ipython",
    "version": 3
   },
   "file_extension": ".py",
   "mimetype": "text/x-python",
   "name": "python",
   "nbconvert_exporter": "python",
   "pygments_lexer": "ipython3",
   "version": "3.9.12"
  }
 },
 "nbformat": 4,
 "nbformat_minor": 5
}
